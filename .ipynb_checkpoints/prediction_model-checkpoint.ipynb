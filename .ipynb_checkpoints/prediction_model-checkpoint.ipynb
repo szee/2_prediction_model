{
 "cells": [
  {
   "cell_type": "code",
   "execution_count": 2,
   "id": "5334743b",
   "metadata": {},
   "outputs": [],
   "source": [
    "from pyspark.ml.classification import LogisticRegression\n",
    "from pyspark.ml.feature import VectorAssembler\n",
    "\n",
    "from pyspark.sql import SparkSession\n",
    "\n",
    "import pandas as pd"
   ]
  },
  {
   "cell_type": "code",
   "execution_count": 3,
   "id": "7d787009",
   "metadata": {},
   "outputs": [
    {
     "name": "stderr",
     "output_type": "stream",
     "text": [
      "22/04/06 15:37:33 WARN Utils: Your hostname, SweetCard resolves to a loopback address: 127.0.1.1; using 192.168.0.249 instead (on interface wlp2s0)\n",
      "22/04/06 15:37:33 WARN Utils: Set SPARK_LOCAL_IP if you need to bind to another address\n",
      "Using Spark's default log4j profile: org/apache/spark/log4j-defaults.properties\n",
      "Setting default log level to \"WARN\".\n",
      "To adjust logging level use sc.setLogLevel(newLevel). For SparkR, use setLogLevel(newLevel).\n",
      "22/04/06 15:37:34 WARN NativeCodeLoader: Unable to load native-hadoop library for your platform... using builtin-java classes where applicable\n",
      "22/04/06 15:37:35 WARN Utils: Service 'SparkUI' could not bind on port 4040. Attempting port 4041.\n"
     ]
    }
   ],
   "source": [
    "spark = SparkSession.builder.master(\"local[1]\").appName(\"SparkSes\").getOrCreate()"
   ]
  },
  {
   "cell_type": "markdown",
   "id": "58233439",
   "metadata": {},
   "source": [
    "Reading data"
   ]
  },
  {
   "cell_type": "code",
   "execution_count": 5,
   "id": "1c45f4de",
   "metadata": {},
   "outputs": [
    {
     "name": "stdout",
     "output_type": "stream",
     "text": [
      "+--------+-----------------------+----------------------+---------------------+---------------------+\n",
      "| user_id|month_interaction_count|week_interaction_count|day_interaction_count|cancelled_within_week|\n",
      "+--------+-----------------------+----------------------+---------------------+---------------------+\n",
      "|66860ae6|                     41|                     9|                    0|                    1|\n",
      "|249803f8|                     25|                     9|                    2|                    0|\n",
      "|32ed74cc|                     21|                     2|                    1|                    1|\n",
      "|7ed76e6a|                     22|                     5|                    2|                    0|\n",
      "|46c81f43|                     32|                     8|                    2|                    0|\n",
      "|cf0f185e|                     26|                     4|                    0|                    1|\n",
      "|568275b3|                     29|                     5|                    1|                    1|\n",
      "|86a060ec|                     33|                     7|                    1|                    1|\n",
      "|c0c07290|                     35|                    10|                    0|                    0|\n",
      "|709dc1da|                     36|                    11|                    1|                    0|\n",
      "+--------+-----------------------+----------------------+---------------------+---------------------+\n",
      "\n"
     ]
    }
   ],
   "source": [
    "df_in = spark.read.csv('dataframe.csv', header=True, inferSchema=True)\n",
    "df_in.show()"
   ]
  },
  {
   "cell_type": "markdown",
   "id": "066346aa",
   "metadata": {},
   "source": [
    "Vectorizing data and preparing Train and Test dataframes"
   ]
  },
  {
   "cell_type": "code",
   "execution_count": 8,
   "id": "78773894",
   "metadata": {},
   "outputs": [],
   "source": [
    "assembler = VectorAssembler(inputCols=[\"month_interaction_count\", \n",
    "                                       \"week_interaction_count\", \n",
    "                                       \"day_interaction_count\"],\n",
    "                            outputCol=\"features\")\n",
    "df = assembler.transform(df_in)\n",
    "df_train = df.select(\"user_id\", \"cancelled_within_week\", \"features\")\n",
    "df_test = df.select(\"user_id\", \"features\")"
   ]
  },
  {
   "cell_type": "markdown",
   "id": "9282bc87",
   "metadata": {},
   "source": [
    "Defining the model"
   ]
  },
  {
   "cell_type": "code",
   "execution_count": 9,
   "id": "7cf63a6a",
   "metadata": {},
   "outputs": [],
   "source": [
    "lrgen = LogisticRegression(labelCol=\"cancelled_within_week\", \n",
    "                           featuresCol=\"features\", \n",
    "                           maxIter=10, \n",
    "                           regParam=0.1,\n",
    "                           threshold=0.6)"
   ]
  },
  {
   "cell_type": "markdown",
   "id": "ae3ff546",
   "metadata": {},
   "source": [
    "Training the model"
   ]
  },
  {
   "cell_type": "code",
   "execution_count": 10,
   "id": "111b1e03",
   "metadata": {},
   "outputs": [
    {
     "name": "stderr",
     "output_type": "stream",
     "text": [
      "22/04/06 15:40:35 WARN InstanceBuilder$NativeBLAS: Failed to load implementation from:dev.ludovic.netlib.blas.JNIBLAS\n",
      "22/04/06 15:40:35 WARN InstanceBuilder$NativeBLAS: Failed to load implementation from:dev.ludovic.netlib.blas.ForeignLinkerBLAS\n"
     ]
    }
   ],
   "source": [
    "linearModelgen = lrgen.fit(df_train)"
   ]
  },
  {
   "cell_type": "markdown",
   "id": "c561b6f7",
   "metadata": {},
   "source": [
    "Making prediction on the test set"
   ]
  },
  {
   "cell_type": "code",
   "execution_count": 16,
   "id": "f4b7722c",
   "metadata": {},
   "outputs": [
    {
     "name": "stdout",
     "output_type": "stream",
     "text": [
      "+--------+--------------------+--------------------+----------+\n",
      "| user_id|       rawPrediction|         probability|prediction|\n",
      "+--------+--------------------+--------------------+----------+\n",
      "|66860ae6|[-0.6913927322203...|[0.33372332467871...|       1.0|\n",
      "|249803f8|[1.99534219815040...|[0.88030717060971...|       0.0|\n",
      "|32ed74cc|[-1.5519845889443...|[0.17479981666924...|       1.0|\n",
      "|7ed76e6a|[0.55912506936656...|[0.63625007405661...|       0.0|\n",
      "|46c81f43|[1.28102716568289...|[0.78262457201960...|       0.0|\n",
      "|cf0f185e|[-1.9709630540962...|[0.12228548294156...|       1.0|\n",
      "|568275b3|[-0.7384022990095...|[0.32335361572998...|       1.0|\n",
      "|86a060ec|[-0.1348939766407...|[0.46632755009981...|       0.0|\n",
      "|c0c07290|[-0.0229177965620...|[0.49427080161733...|       0.0|\n",
      "|709dc1da|[1.30132315214311...|[0.78605758316099...|       0.0|\n",
      "+--------+--------------------+--------------------+----------+\n",
      "\n"
     ]
    }
   ],
   "source": [
    "predictions_res = linearModelgen.transform(df_test)\n",
    "predictions_out = predictions_res.select('user_id', \n",
    "                                         'rawPrediction', \n",
    "                                         'probability', \n",
    "                                         'prediction')\n",
    "predictions_out.show()"
   ]
  },
  {
   "cell_type": "markdown",
   "id": "b66f8472",
   "metadata": {},
   "source": [
    "Performing data output into `file predictions.csv`"
   ]
  },
  {
   "cell_type": "code",
   "execution_count": 17,
   "id": "c3c9595d",
   "metadata": {},
   "outputs": [],
   "source": [
    "predictions_out.toPandas().to_csv('predictions.csv', sep=';')"
   ]
  },
  {
   "cell_type": "markdown",
   "id": "eb236aa0",
   "metadata": {},
   "source": [
    "### Note\n",
    "The case above is a very simplified approach to buliding an ML model. In particular evaluating model on the same data it was trained on leads to an overoptimisitc estimate of model's performance.\n",
    "\n",
    "In a more realisitic case we should split the data into Train and Test parts and do some feature engineering and model hyperparameters tuning and pick the best features and hyperparameters using crossvalidation on a Train set. After that we should train the model on the whole Train set and once again check it's performance applying the model to the Test set. On the final step we may combine Train and Test sets and train our model on that combined dataset and use it on the new unknown data."
   ]
  }
 ],
 "metadata": {
  "kernelspec": {
   "display_name": "Python 3 (ipykernel)",
   "language": "python",
   "name": "python3"
  },
  "language_info": {
   "codemirror_mode": {
    "name": "ipython",
    "version": 3
   },
   "file_extension": ".py",
   "mimetype": "text/x-python",
   "name": "python",
   "nbconvert_exporter": "python",
   "pygments_lexer": "ipython3",
   "version": "3.9.7"
  }
 },
 "nbformat": 4,
 "nbformat_minor": 5
}
